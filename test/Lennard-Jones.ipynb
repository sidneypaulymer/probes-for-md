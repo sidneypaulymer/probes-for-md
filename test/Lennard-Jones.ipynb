{
 "cells": [
  {
   "cell_type": "code",
   "execution_count": 1,
   "metadata": {},
   "outputs": [],
   "source": [
    "from sympy import *\n",
    "from sympy.plotting import plot"
   ]
  },
  {
   "cell_type": "code",
   "execution_count": 2,
   "metadata": {},
   "outputs": [],
   "source": [
    "r, A, B = symbols('r A B')\n",
    "V_LJ_AB, V_LJ_se, V_LJ_re = symbols('V_LJ_AB V_LJ_se V_LJ_re', cls=Function)"
   ]
  },
  {
   "cell_type": "code",
   "execution_count": 3,
   "metadata": {},
   "outputs": [],
   "source": [
    "V_LJ_AB = A/r**12 - B/r**6"
   ]
  },
  {
   "cell_type": "code",
   "execution_count": 4,
   "metadata": {},
   "outputs": [
    {
     "data": {
      "text/latex": [
       "$\\displaystyle \\frac{A}{r^{12}} - \\frac{B}{r^{6}}$"
      ],
      "text/plain": [
       "A/r**12 - B/r**6"
      ]
     },
     "execution_count": 4,
     "metadata": {},
     "output_type": "execute_result"
    }
   ],
   "source": [
    "V_LJ_AB"
   ]
  },
  {
   "cell_type": "code",
   "execution_count": 5,
   "metadata": {},
   "outputs": [
    {
     "data": {
      "text/latex": [
       "$\\displaystyle \\frac{4 \\epsilon \\sigma^{6} \\left(- r^{6} + \\sigma^{6}\\right)}{r^{12}}$"
      ],
      "text/plain": [
       "4*epsilon*sigma**6*(-r**6 + sigma**6)/r**12"
      ]
     },
     "execution_count": 5,
     "metadata": {},
     "output_type": "execute_result"
    }
   ],
   "source": [
    "epsilon, sigma, r_min= symbols('epsilon sigma r_min')\n",
    "V_LJ_se = V_LJ_AB.subs(A,4*epsilon*sigma**12).subs(B,4*epsilon*sigma**6)\n",
    "simplify(V_LJ_se)"
   ]
  },
  {
   "cell_type": "code",
   "execution_count": 6,
   "metadata": {},
   "outputs": [
    {
     "data": {
      "text/latex": [
       "$\\displaystyle \\frac{\\epsilon r_{min}^{6} \\left(- 2.0 r^{6} + 1.0 r_{min}^{6}\\right)}{r^{12}}$"
      ],
      "text/plain": [
       "epsilon*r_min**6*(-2.0*r**6 + 1.0*r_min**6)/r**12"
      ]
     },
     "execution_count": 6,
     "metadata": {},
     "output_type": "execute_result"
    }
   ],
   "source": [
    "V_LJ_re = V_LJ_se.subs(sigma,2**(-1/6)*r_min)\n",
    "simplify(V_LJ_re)"
   ]
  },
  {
   "cell_type": "code",
   "execution_count": 10,
   "metadata": {},
   "outputs": [
    {
     "data": {
      "image/png": "[encoded data removed]",
      "text/plain": [
       "<Figure size 432x288 with 1 Axes>"
      ]
     },
     "metadata": {
      "needs_background": "light"
     },
     "output_type": "display_data"
    }
   ],
   "source": [
    "p1 = plot(V_LJ_re.subs(epsilon,0.5).subs(r_min,2), (r,1.75,4.5), show=False)\n",
    "p1.show()"
   ]
  },
  {
   "cell_type": "code",
   "execution_count": null,
   "metadata": {},
   "outputs": [],
   "source": []
  }
 ],
 "metadata": {
  "kernelspec": {
   "display_name": "Python [conda env:conda-forge-only]",
   "language": "python",
   "name": "conda-env-conda-forge-only-py"
  },
  "language_info": {
   "codemirror_mode": {
    "name": "ipython",
    "version": 3
   },
   "file_extension": ".py",
   "mimetype": "text/x-python",
   "name": "python",
   "nbconvert_exporter": "python",
   "pygments_lexer": "ipython3",
   "version": "3.7.3"
  }
 },
 "nbformat": 4,
 "nbformat_minor": 2
}
